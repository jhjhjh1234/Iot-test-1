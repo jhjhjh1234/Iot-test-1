{
  "nbformat": 4,
  "nbformat_minor": 0,
  "metadata": {
    "colab": {
      "name": "Iot test 1",
      "provenance": []
    },
    "kernelspec": {
      "name": "python3",
      "display_name": "Python 3"
    },
    "language_info": {
      "name": "python"
    }
  },
  "cells": [
    {
      "cell_type": "code",
      "execution_count": null,
      "metadata": {
        "id": "gaiXDmcE5A-c",
        "colab": {
          "base_uri": "https://localhost:8080/"
        },
        "outputId": "01b93694-2ff1-4e05-834c-620e77a7a64f"
      },
      "outputs": [
        {
          "output_type": "stream",
          "name": "stdout",
          "text": [
            "odd numbers is :  [1, 3, 5, 7, 9]\n"
          ]
        }
      ],
      "source": [
        "my_list = [1,2,3,4,5,6,7,8,9]\n",
        "odd_nos = [num for num in my_list if num % 2 != 0]\n",
        "  \n",
        "print(\"odd numbers is : \", odd_nos)"
      ]
    },
    {
      "cell_type": "code",
      "source": [
        ""
      ],
      "metadata": {
        "id": "eSDrDRlGH2kX"
      },
      "execution_count": null,
      "outputs": []
    },
    {
      "cell_type": "code",
      "source": [
        "\n",
        "numlist = ['2','5','2','5','2','5','2','5','2']\n",
        "numsum=0\n",
        "for i in numlist:\n",
        "    numsum+=int(i)\n",
        "print('Sum of List: ',numsum)"
      ],
      "metadata": {
        "colab": {
          "base_uri": "https://localhost:8080/"
        },
        "id": "Rivblw436sTc",
        "outputId": "b568ea8f-71fa-4fbe-c414-4165d1db3e46"
      },
      "execution_count": null,
      "outputs": [
        {
          "output_type": "stream",
          "name": "stdout",
          "text": [
            "Sum of List:  30\n"
          ]
        }
      ]
    },
    {
      "cell_type": "code",
      "source": [
        "a = [2,4,6,8,10]\n",
        "a.reverse()\n",
        "print('reversed list is:',a)\n",
        "print('reversed list is:',a[::-1])"
      ],
      "metadata": {
        "colab": {
          "base_uri": "https://localhost:8080/"
        },
        "id": "xnwaiA-F7eld",
        "outputId": "b196e339-72d7-441a-af86-c0b1d486ba27"
      },
      "execution_count": null,
      "outputs": [
        {
          "output_type": "stream",
          "name": "stdout",
          "text": [
            "reversed list is: [10, 8, 6, 4, 2]\n",
            "reversed list is: [2, 4, 6, 8, 10]\n"
          ]
        }
      ]
    },
    {
      "cell_type": "code",
      "source": [
        "list1 = [11,22,1,2,5,67,21,32]\n",
        "new_list = set(list1)\n",
        "new_list.remove(max(new_list))\n",
        "print(max(new_list))"
      ],
      "metadata": {
        "id": "Htal2GCvBAt2",
        "colab": {
          "base_uri": "https://localhost:8080/"
        },
        "outputId": "208c0e8e-503e-4b5c-f8cf-6bdd260683a0"
      },
      "execution_count": null,
      "outputs": [
        {
          "output_type": "stream",
          "name": "stdout",
          "text": [
            "32\n"
          ]
        }
      ]
    },
    {
      "cell_type": "code",
      "source": [
        "string = 'ffftttmmm'\n",
        "p =''\n",
        "for i in string:\n",
        "  if i not in p:\n",
        "    p=p+i\n",
        "print (p)    "
      ],
      "metadata": {
        "id": "HhNbo6ZE_eBP",
        "colab": {
          "base_uri": "https://localhost:8080/"
        },
        "outputId": "92fd14af-4eac-47ee-f20c-2b061d16c817"
      },
      "execution_count": null,
      "outputs": [
        {
          "output_type": "stream",
          "name": "stdout",
          "text": [
            "ftm\n"
          ]
        }
      ]
    },
    {
      "cell_type": "code",
      "source": [
        "\n"
      ],
      "metadata": {
        "id": "ooQ2VzCeNFeE"
      },
      "execution_count": null,
      "outputs": []
    },
    {
      "cell_type": "code",
      "source": [
        "ch = input(\"Enter a character: \")\n",
        "\n",
        "if(character=='A' or character=='a' or ch=='E' or ch =='e' or ch=='I'\n",
        " or character=='i' or character=='O' or ch=='o' or ch=='U' or ch=='u'):\n",
        "    print(character, \"is a Vowel\")\n",
        "else:\n",
        "    print(character, \"is a Consonant\")"
      ],
      "metadata": {
        "colab": {
          "base_uri": "https://localhost:8080/"
        },
        "id": "owT7odiwQZrI",
        "outputId": "f7ac7088-baf2-4b69-a0d4-f1a305071ba2"
      },
      "execution_count": null,
      "outputs": [
        {
          "output_type": "stream",
          "name": "stdout",
          "text": [
            "Enter a character: a\n",
            "a is a Vowel\n"
          ]
        }
      ]
    },
    {
      "cell_type": "code",
      "source": [
        "def factorial(n):\n",
        "    if n == 0:\n",
        "        return 1\n",
        "    else:\n",
        "        return n * factorial(n-1)\n",
        "n=int(input(\"Input a number to compute the factiorial : \"))\n",
        "print(factorial(n))"
      ],
      "metadata": {
        "colab": {
          "base_uri": "https://localhost:8080/"
        },
        "id": "I5pZJ1yVNqWm",
        "outputId": "b4bc52d8-43c0-47ba-a6ad-df14d48e1dbc"
      },
      "execution_count": null,
      "outputs": [
        {
          "output_type": "stream",
          "name": "stdout",
          "text": [
            "Input a number to compute the factiorial : 5\n",
            "120\n"
          ]
        }
      ]
    },
    {
      "cell_type": "code",
      "source": [
        ""
      ],
      "metadata": {
        "id": "HlMHdNp9T8KQ"
      },
      "execution_count": null,
      "outputs": []
    }
  ]
}